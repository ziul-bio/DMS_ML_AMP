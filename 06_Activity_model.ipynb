{
 "cells": [
  {
   "cell_type": "markdown",
   "metadata": {},
   "source": [
    "## Machine Learning applied to identify Active Antimicobrial Peptides\n",
    "\n",
    "In this notebook is described all the procedure used to train and test the Activity model."
   ]
  },
  {
   "cell_type": "code",
   "execution_count": 1,
   "metadata": {},
   "outputs": [],
   "source": [
    "import os\n",
    "import torch\n",
    "import numpy as np\n",
    "import pandas as pd\n",
    "import seaborn as sns\n",
    "import matplotlib.pyplot as plt\n",
    "from sklearn.svm import SVC\n",
    "import pickle\n",
    "from sklearn.decomposition import PCA\n",
    "from sklearn.naive_bayes import GaussianNB\n",
    "from sklearn.tree import DecisionTreeClassifier\n",
    "from sklearn.neighbors import KNeighborsClassifier\n",
    "from sklearn.ensemble import RandomForestClassifier\n",
    "from sklearn.linear_model import LogisticRegression\n",
    "from sklearn import metrics\n",
    "from sklearn.metrics import precision_recall_curve, auc\n",
    "from sklearn.model_selection import train_test_split, cross_val_score, GridSearchCV\n",
    "\n",
    "%matplotlib inline"
   ]
  },
  {
   "cell_type": "code",
   "execution_count": 2,
   "metadata": {},
   "outputs": [
    {
     "data": {
      "text/plain": [
       "0"
      ]
     },
     "execution_count": 2,
     "metadata": {},
     "output_type": "execute_result"
    }
   ],
   "source": [
    "# This function wil convert the undefined MIC values or MIC > 8 to 0.\n",
    "def convert_mic(mic_value):\n",
    "    if type(mic_value) == str and mic_value.startswith('>'):\n",
    "        return 0\n",
    "    elif float(mic_value) > 8:\n",
    "        return 0\n",
    "    else:\n",
    "        return 1\n",
    "    \n",
    "convert_mic('>64')"
   ]
  },
  {
   "cell_type": "code",
   "execution_count": 3,
   "metadata": {},
   "outputs": [
    {
     "data": {
      "text/html": [
       "<div>\n",
       "<style scoped>\n",
       "    .dataframe tbody tr th:only-of-type {\n",
       "        vertical-align: middle;\n",
       "    }\n",
       "\n",
       "    .dataframe tbody tr th {\n",
       "        vertical-align: top;\n",
       "    }\n",
       "\n",
       "    .dataframe thead th {\n",
       "        text-align: right;\n",
       "    }\n",
       "</style>\n",
       "<table border=\"1\" class=\"dataframe\">\n",
       "  <thead>\n",
       "    <tr style=\"text-align: right;\">\n",
       "      <th></th>\n",
       "      <th>ID</th>\n",
       "      <th>Sequence</th>\n",
       "      <th>MBC</th>\n",
       "      <th>%Hemolysis</th>\n",
       "    </tr>\n",
       "  </thead>\n",
       "  <tbody>\n",
       "    <tr>\n",
       "      <th>0</th>\n",
       "      <td>PG-1.37</td>\n",
       "      <td>HVRRLCYCRRRFCACVGS</td>\n",
       "      <td>1</td>\n",
       "      <td>2.600000</td>\n",
       "    </tr>\n",
       "    <tr>\n",
       "      <th>1</th>\n",
       "      <td>PG-1.20d</td>\n",
       "      <td>RGGRLRYCRRRFCVSVGR</td>\n",
       "      <td>1</td>\n",
       "      <td>1.607281</td>\n",
       "    </tr>\n",
       "    <tr>\n",
       "      <th>2</th>\n",
       "      <td>PG-1.62</td>\n",
       "      <td>RGGRLCYCRRRFCTCVGR</td>\n",
       "      <td>1</td>\n",
       "      <td>3.233927</td>\n",
       "    </tr>\n",
       "    <tr>\n",
       "      <th>3</th>\n",
       "      <td>PG-1.12A</td>\n",
       "      <td>RGGRLCYCRRRACVCVGR</td>\n",
       "      <td>1</td>\n",
       "      <td>12.103021</td>\n",
       "    </tr>\n",
       "    <tr>\n",
       "      <th>4</th>\n",
       "      <td>PG-1.16A</td>\n",
       "      <td>RGGRLCYCRRRFCVCAGR</td>\n",
       "      <td>1</td>\n",
       "      <td>15.821069</td>\n",
       "    </tr>\n",
       "    <tr>\n",
       "      <th>...</th>\n",
       "      <td>...</td>\n",
       "      <td>...</td>\n",
       "      <td>...</td>\n",
       "      <td>...</td>\n",
       "    </tr>\n",
       "    <tr>\n",
       "      <th>91</th>\n",
       "      <td>PG-1.32</td>\n",
       "      <td>HGWRLCYCRRRFCVCVGC</td>\n",
       "      <td>0</td>\n",
       "      <td>35.460367</td>\n",
       "    </tr>\n",
       "    <tr>\n",
       "      <th>92</th>\n",
       "      <td>PG-1.60</td>\n",
       "      <td>RGGRLCYCRRRFCVCVGF</td>\n",
       "      <td>0</td>\n",
       "      <td>36.664085</td>\n",
       "    </tr>\n",
       "    <tr>\n",
       "      <th>93</th>\n",
       "      <td>PG-1.25</td>\n",
       "      <td>RGWRLCYCRRRFCVCVGH</td>\n",
       "      <td>0</td>\n",
       "      <td>46.397292</td>\n",
       "    </tr>\n",
       "    <tr>\n",
       "      <th>94</th>\n",
       "      <td>PG-1.7</td>\n",
       "      <td>RRWCLCFCRRRFCVCVCR</td>\n",
       "      <td>0</td>\n",
       "      <td>51.181276</td>\n",
       "    </tr>\n",
       "    <tr>\n",
       "      <th>95</th>\n",
       "      <td>PG-1.24</td>\n",
       "      <td>RGWRLCYCRRRFCVCVGC</td>\n",
       "      <td>0</td>\n",
       "      <td>78.280710</td>\n",
       "    </tr>\n",
       "  </tbody>\n",
       "</table>\n",
       "<p>96 rows × 4 columns</p>\n",
       "</div>"
      ],
      "text/plain": [
       "          ID            Sequence  MBC  %Hemolysis\n",
       "0    PG-1.37  HVRRLCYCRRRFCACVGS    1    2.600000\n",
       "1   PG-1.20d  RGGRLRYCRRRFCVSVGR    1    1.607281\n",
       "2    PG-1.62  RGGRLCYCRRRFCTCVGR    1    3.233927\n",
       "3   PG-1.12A  RGGRLCYCRRRACVCVGR    1   12.103021\n",
       "4   PG-1.16A  RGGRLCYCRRRFCVCAGR    1   15.821069\n",
       "..       ...                 ...  ...         ...\n",
       "91   PG-1.32  HGWRLCYCRRRFCVCVGC    0   35.460367\n",
       "92   PG-1.60  RGGRLCYCRRRFCVCVGF    0   36.664085\n",
       "93   PG-1.25  RGWRLCYCRRRFCVCVGH    0   46.397292\n",
       "94    PG-1.7  RRWCLCFCRRRFCVCVCR    0   51.181276\n",
       "95   PG-1.24  RGWRLCYCRRRFCVCVGC    0   78.280710\n",
       "\n",
       "[96 rows x 4 columns]"
      ]
     },
     "execution_count": 3,
     "metadata": {},
     "output_type": "execute_result"
    }
   ],
   "source": [
    "# Load meta data\n",
    "meta_data = pd.read_excel('data/Cumulative_Peptide_data_PG1.xlsx', index_col=0)\n",
    "meta_data['MBC'] = [convert_mic(x) for x in meta_data['MBC']]\n",
    "meta_data"
   ]
  },
  {
   "cell_type": "code",
   "execution_count": 4,
   "metadata": {},
   "outputs": [
    {
     "data": {
      "image/png": "[encoded data removed]",
      "text/plain": [
       "<Figure size 500x500 with 1 Axes>"
      ]
     },
     "metadata": {},
     "output_type": "display_data"
    }
   ],
   "source": [
    "# Create the new target selectivity\n",
    "sns.catplot(data=meta_data, x='MBC', kind='count')\n",
    "plt.xticks([0,1], ['Non_AMP', 'AMP'])\n",
    "plt.show()"
   ]
  },
  {
   "cell_type": "markdown",
   "metadata": {},
   "source": [
    "## Define the Model"
   ]
  },
  {
   "cell_type": "code",
   "execution_count": 5,
   "metadata": {},
   "outputs": [
    {
     "data": {
      "text/html": [
       "<div>\n",
       "<style scoped>\n",
       "    .dataframe tbody tr th:only-of-type {\n",
       "        vertical-align: middle;\n",
       "    }\n",
       "\n",
       "    .dataframe tbody tr th {\n",
       "        vertical-align: top;\n",
       "    }\n",
       "\n",
       "    .dataframe thead th {\n",
       "        text-align: right;\n",
       "    }\n",
       "</style>\n",
       "<table border=\"1\" class=\"dataframe\">\n",
       "  <thead>\n",
       "    <tr style=\"text-align: right;\">\n",
       "      <th></th>\n",
       "      <th>ID</th>\n",
       "      <th>Sequence</th>\n",
       "      <th>MBC</th>\n",
       "      <th>%Hemolysis</th>\n",
       "      <th>0</th>\n",
       "      <th>1</th>\n",
       "      <th>2</th>\n",
       "      <th>3</th>\n",
       "      <th>4</th>\n",
       "      <th>5</th>\n",
       "      <th>...</th>\n",
       "      <th>5110</th>\n",
       "      <th>5111</th>\n",
       "      <th>5112</th>\n",
       "      <th>5113</th>\n",
       "      <th>5114</th>\n",
       "      <th>5115</th>\n",
       "      <th>5116</th>\n",
       "      <th>5117</th>\n",
       "      <th>5118</th>\n",
       "      <th>5119</th>\n",
       "    </tr>\n",
       "  </thead>\n",
       "  <tbody>\n",
       "    <tr>\n",
       "      <th>0</th>\n",
       "      <td>PG-1.37</td>\n",
       "      <td>HVRRLCYCRRRFCACVGS</td>\n",
       "      <td>1</td>\n",
       "      <td>2.600000</td>\n",
       "      <td>0.056671</td>\n",
       "      <td>-0.074099</td>\n",
       "      <td>-0.040746</td>\n",
       "      <td>0.217794</td>\n",
       "      <td>-0.197767</td>\n",
       "      <td>0.223628</td>\n",
       "      <td>...</td>\n",
       "      <td>-0.130863</td>\n",
       "      <td>-0.107892</td>\n",
       "      <td>0.140624</td>\n",
       "      <td>-0.169443</td>\n",
       "      <td>0.165775</td>\n",
       "      <td>-0.120193</td>\n",
       "      <td>0.094954</td>\n",
       "      <td>-0.000617</td>\n",
       "      <td>-0.199790</td>\n",
       "      <td>0.001056</td>\n",
       "    </tr>\n",
       "    <tr>\n",
       "      <th>1</th>\n",
       "      <td>PG-1.20d</td>\n",
       "      <td>RGGRLRYCRRRFCVSVGR</td>\n",
       "      <td>1</td>\n",
       "      <td>1.607281</td>\n",
       "      <td>0.133009</td>\n",
       "      <td>-0.124348</td>\n",
       "      <td>-0.109747</td>\n",
       "      <td>0.222604</td>\n",
       "      <td>-0.261453</td>\n",
       "      <td>0.138052</td>\n",
       "      <td>...</td>\n",
       "      <td>-0.105108</td>\n",
       "      <td>-0.053451</td>\n",
       "      <td>0.092585</td>\n",
       "      <td>-0.201894</td>\n",
       "      <td>0.094672</td>\n",
       "      <td>-0.104331</td>\n",
       "      <td>0.135752</td>\n",
       "      <td>0.036512</td>\n",
       "      <td>-0.230271</td>\n",
       "      <td>0.020399</td>\n",
       "    </tr>\n",
       "    <tr>\n",
       "      <th>2</th>\n",
       "      <td>PG-1.62</td>\n",
       "      <td>RGGRLCYCRRRFCTCVGR</td>\n",
       "      <td>1</td>\n",
       "      <td>3.233927</td>\n",
       "      <td>0.155696</td>\n",
       "      <td>-0.016959</td>\n",
       "      <td>-0.179328</td>\n",
       "      <td>0.153639</td>\n",
       "      <td>-0.241203</td>\n",
       "      <td>0.130882</td>\n",
       "      <td>...</td>\n",
       "      <td>-0.160722</td>\n",
       "      <td>-0.136943</td>\n",
       "      <td>0.049061</td>\n",
       "      <td>-0.175572</td>\n",
       "      <td>0.109034</td>\n",
       "      <td>-0.239965</td>\n",
       "      <td>-0.050614</td>\n",
       "      <td>-0.096664</td>\n",
       "      <td>-0.249927</td>\n",
       "      <td>0.020688</td>\n",
       "    </tr>\n",
       "    <tr>\n",
       "      <th>3</th>\n",
       "      <td>PG-1.12A</td>\n",
       "      <td>RGGRLCYCRRRACVCVGR</td>\n",
       "      <td>1</td>\n",
       "      <td>12.103021</td>\n",
       "      <td>0.056310</td>\n",
       "      <td>-0.137829</td>\n",
       "      <td>-0.098538</td>\n",
       "      <td>0.162526</td>\n",
       "      <td>-0.252675</td>\n",
       "      <td>0.163847</td>\n",
       "      <td>...</td>\n",
       "      <td>-0.124351</td>\n",
       "      <td>-0.181434</td>\n",
       "      <td>0.037783</td>\n",
       "      <td>-0.201551</td>\n",
       "      <td>0.092573</td>\n",
       "      <td>-0.168867</td>\n",
       "      <td>0.078524</td>\n",
       "      <td>-0.003103</td>\n",
       "      <td>-0.212419</td>\n",
       "      <td>0.049512</td>\n",
       "    </tr>\n",
       "    <tr>\n",
       "      <th>4</th>\n",
       "      <td>PG-1.16A</td>\n",
       "      <td>RGGRLCYCRRRFCVCAGR</td>\n",
       "      <td>1</td>\n",
       "      <td>15.821069</td>\n",
       "      <td>0.122564</td>\n",
       "      <td>-0.024471</td>\n",
       "      <td>-0.127546</td>\n",
       "      <td>0.165324</td>\n",
       "      <td>-0.258667</td>\n",
       "      <td>0.142153</td>\n",
       "      <td>...</td>\n",
       "      <td>-0.155189</td>\n",
       "      <td>-0.155856</td>\n",
       "      <td>0.061196</td>\n",
       "      <td>-0.220575</td>\n",
       "      <td>0.092058</td>\n",
       "      <td>-0.220014</td>\n",
       "      <td>0.025014</td>\n",
       "      <td>-0.053914</td>\n",
       "      <td>-0.198191</td>\n",
       "      <td>0.036471</td>\n",
       "    </tr>\n",
       "    <tr>\n",
       "      <th>...</th>\n",
       "      <td>...</td>\n",
       "      <td>...</td>\n",
       "      <td>...</td>\n",
       "      <td>...</td>\n",
       "      <td>...</td>\n",
       "      <td>...</td>\n",
       "      <td>...</td>\n",
       "      <td>...</td>\n",
       "      <td>...</td>\n",
       "      <td>...</td>\n",
       "      <td>...</td>\n",
       "      <td>...</td>\n",
       "      <td>...</td>\n",
       "      <td>...</td>\n",
       "      <td>...</td>\n",
       "      <td>...</td>\n",
       "      <td>...</td>\n",
       "      <td>...</td>\n",
       "      <td>...</td>\n",
       "      <td>...</td>\n",
       "      <td>...</td>\n",
       "    </tr>\n",
       "    <tr>\n",
       "      <th>91</th>\n",
       "      <td>PG-1.32</td>\n",
       "      <td>HGWRLCYCRRRFCVCVGC</td>\n",
       "      <td>0</td>\n",
       "      <td>35.460367</td>\n",
       "      <td>0.007245</td>\n",
       "      <td>-0.115889</td>\n",
       "      <td>-0.040796</td>\n",
       "      <td>0.235570</td>\n",
       "      <td>-0.216340</td>\n",
       "      <td>0.226666</td>\n",
       "      <td>...</td>\n",
       "      <td>-0.166121</td>\n",
       "      <td>-0.146094</td>\n",
       "      <td>0.080064</td>\n",
       "      <td>-0.143502</td>\n",
       "      <td>0.155125</td>\n",
       "      <td>-0.067742</td>\n",
       "      <td>0.087349</td>\n",
       "      <td>-0.027154</td>\n",
       "      <td>-0.214921</td>\n",
       "      <td>0.023557</td>\n",
       "    </tr>\n",
       "    <tr>\n",
       "      <th>92</th>\n",
       "      <td>PG-1.60</td>\n",
       "      <td>RGGRLCYCRRRFCVCVGF</td>\n",
       "      <td>0</td>\n",
       "      <td>36.664085</td>\n",
       "      <td>0.143025</td>\n",
       "      <td>-0.030791</td>\n",
       "      <td>-0.110694</td>\n",
       "      <td>0.109217</td>\n",
       "      <td>-0.223111</td>\n",
       "      <td>0.105739</td>\n",
       "      <td>...</td>\n",
       "      <td>-0.119124</td>\n",
       "      <td>-0.189840</td>\n",
       "      <td>-0.030339</td>\n",
       "      <td>-0.218860</td>\n",
       "      <td>0.098898</td>\n",
       "      <td>-0.174355</td>\n",
       "      <td>0.023488</td>\n",
       "      <td>-0.059298</td>\n",
       "      <td>-0.252023</td>\n",
       "      <td>0.029996</td>\n",
       "    </tr>\n",
       "    <tr>\n",
       "      <th>93</th>\n",
       "      <td>PG-1.25</td>\n",
       "      <td>RGWRLCYCRRRFCVCVGH</td>\n",
       "      <td>0</td>\n",
       "      <td>46.397292</td>\n",
       "      <td>0.068697</td>\n",
       "      <td>-0.038422</td>\n",
       "      <td>-0.142241</td>\n",
       "      <td>0.184863</td>\n",
       "      <td>-0.232976</td>\n",
       "      <td>0.162749</td>\n",
       "      <td>...</td>\n",
       "      <td>-0.180917</td>\n",
       "      <td>-0.172996</td>\n",
       "      <td>0.046710</td>\n",
       "      <td>-0.179037</td>\n",
       "      <td>0.106190</td>\n",
       "      <td>-0.103997</td>\n",
       "      <td>-0.029128</td>\n",
       "      <td>0.000693</td>\n",
       "      <td>-0.243295</td>\n",
       "      <td>0.019351</td>\n",
       "    </tr>\n",
       "    <tr>\n",
       "      <th>94</th>\n",
       "      <td>PG-1.7</td>\n",
       "      <td>RRWCLCFCRRRFCVCVCR</td>\n",
       "      <td>0</td>\n",
       "      <td>51.181276</td>\n",
       "      <td>0.066839</td>\n",
       "      <td>-0.037917</td>\n",
       "      <td>-0.087912</td>\n",
       "      <td>0.137855</td>\n",
       "      <td>-0.218455</td>\n",
       "      <td>0.279858</td>\n",
       "      <td>...</td>\n",
       "      <td>-0.167717</td>\n",
       "      <td>-0.251613</td>\n",
       "      <td>-0.086687</td>\n",
       "      <td>-0.231941</td>\n",
       "      <td>0.015133</td>\n",
       "      <td>-0.017062</td>\n",
       "      <td>0.048716</td>\n",
       "      <td>-0.028251</td>\n",
       "      <td>-0.203544</td>\n",
       "      <td>-0.114390</td>\n",
       "    </tr>\n",
       "    <tr>\n",
       "      <th>95</th>\n",
       "      <td>PG-1.24</td>\n",
       "      <td>RGWRLCYCRRRFCVCVGC</td>\n",
       "      <td>0</td>\n",
       "      <td>78.280710</td>\n",
       "      <td>0.069902</td>\n",
       "      <td>-0.039020</td>\n",
       "      <td>-0.122685</td>\n",
       "      <td>0.183626</td>\n",
       "      <td>-0.228307</td>\n",
       "      <td>0.150014</td>\n",
       "      <td>...</td>\n",
       "      <td>-0.200931</td>\n",
       "      <td>-0.165114</td>\n",
       "      <td>0.059687</td>\n",
       "      <td>-0.133821</td>\n",
       "      <td>0.111872</td>\n",
       "      <td>-0.142763</td>\n",
       "      <td>-0.034693</td>\n",
       "      <td>-0.022357</td>\n",
       "      <td>-0.249541</td>\n",
       "      <td>0.047750</td>\n",
       "    </tr>\n",
       "  </tbody>\n",
       "</table>\n",
       "<p>96 rows × 5124 columns</p>\n",
       "</div>"
      ],
      "text/plain": [
       "          ID            Sequence  MBC  %Hemolysis         0         1  \\\n",
       "0    PG-1.37  HVRRLCYCRRRFCACVGS    1    2.600000  0.056671 -0.074099   \n",
       "1   PG-1.20d  RGGRLRYCRRRFCVSVGR    1    1.607281  0.133009 -0.124348   \n",
       "2    PG-1.62  RGGRLCYCRRRFCTCVGR    1    3.233927  0.155696 -0.016959   \n",
       "3   PG-1.12A  RGGRLCYCRRRACVCVGR    1   12.103021  0.056310 -0.137829   \n",
       "4   PG-1.16A  RGGRLCYCRRRFCVCAGR    1   15.821069  0.122564 -0.024471   \n",
       "..       ...                 ...  ...         ...       ...       ...   \n",
       "91   PG-1.32  HGWRLCYCRRRFCVCVGC    0   35.460367  0.007245 -0.115889   \n",
       "92   PG-1.60  RGGRLCYCRRRFCVCVGF    0   36.664085  0.143025 -0.030791   \n",
       "93   PG-1.25  RGWRLCYCRRRFCVCVGH    0   46.397292  0.068697 -0.038422   \n",
       "94    PG-1.7  RRWCLCFCRRRFCVCVCR    0   51.181276  0.066839 -0.037917   \n",
       "95   PG-1.24  RGWRLCYCRRRFCVCVGC    0   78.280710  0.069902 -0.039020   \n",
       "\n",
       "           2         3         4         5  ...      5110      5111      5112  \\\n",
       "0  -0.040746  0.217794 -0.197767  0.223628  ... -0.130863 -0.107892  0.140624   \n",
       "1  -0.109747  0.222604 -0.261453  0.138052  ... -0.105108 -0.053451  0.092585   \n",
       "2  -0.179328  0.153639 -0.241203  0.130882  ... -0.160722 -0.136943  0.049061   \n",
       "3  -0.098538  0.162526 -0.252675  0.163847  ... -0.124351 -0.181434  0.037783   \n",
       "4  -0.127546  0.165324 -0.258667  0.142153  ... -0.155189 -0.155856  0.061196   \n",
       "..       ...       ...       ...       ...  ...       ...       ...       ...   \n",
       "91 -0.040796  0.235570 -0.216340  0.226666  ... -0.166121 -0.146094  0.080064   \n",
       "92 -0.110694  0.109217 -0.223111  0.105739  ... -0.119124 -0.189840 -0.030339   \n",
       "93 -0.142241  0.184863 -0.232976  0.162749  ... -0.180917 -0.172996  0.046710   \n",
       "94 -0.087912  0.137855 -0.218455  0.279858  ... -0.167717 -0.251613 -0.086687   \n",
       "95 -0.122685  0.183626 -0.228307  0.150014  ... -0.200931 -0.165114  0.059687   \n",
       "\n",
       "        5113      5114      5115      5116      5117      5118      5119  \n",
       "0  -0.169443  0.165775 -0.120193  0.094954 -0.000617 -0.199790  0.001056  \n",
       "1  -0.201894  0.094672 -0.104331  0.135752  0.036512 -0.230271  0.020399  \n",
       "2  -0.175572  0.109034 -0.239965 -0.050614 -0.096664 -0.249927  0.020688  \n",
       "3  -0.201551  0.092573 -0.168867  0.078524 -0.003103 -0.212419  0.049512  \n",
       "4  -0.220575  0.092058 -0.220014  0.025014 -0.053914 -0.198191  0.036471  \n",
       "..       ...       ...       ...       ...       ...       ...       ...  \n",
       "91 -0.143502  0.155125 -0.067742  0.087349 -0.027154 -0.214921  0.023557  \n",
       "92 -0.218860  0.098898 -0.174355  0.023488 -0.059298 -0.252023  0.029996  \n",
       "93 -0.179037  0.106190 -0.103997 -0.029128  0.000693 -0.243295  0.019351  \n",
       "94 -0.231941  0.015133 -0.017062  0.048716 -0.028251 -0.203544 -0.114390  \n",
       "95 -0.133821  0.111872 -0.142763 -0.034693 -0.022357 -0.249541  0.047750  \n",
       "\n",
       "[96 rows x 5124 columns]"
      ]
     },
     "execution_count": 5,
     "metadata": {},
     "output_type": "execute_result"
    }
   ],
   "source": [
    "# # creates a empty dictionary, and updates it with the embedds\n",
    "dir_path = 'data/embedding/esm2_15B_PG1/'\n",
    "\n",
    "embeddings = {}\n",
    "for file in os.listdir(dir_path):\n",
    "    file_path = str(dir_path) + file \n",
    "    label = file.split('.pt')[0]\n",
    "    embeddings[label] = np.array(torch.load(file_path)['mean_representations'][48])\n",
    "\n",
    "# here I creating a dictionary with ID as key and semantic value as value \n",
    "data = meta_data.merge(pd.DataFrame.from_dict(embeddings, orient='index'), how='inner', left_on='ID', right_index=True)\n",
    "data"
   ]
  },
  {
   "cell_type": "code",
   "execution_count": 6,
   "metadata": {},
   "outputs": [],
   "source": [
    " # define target to evaluete the model\n",
    "target = data[\"MBC\"]"
   ]
  },
  {
   "cell_type": "code",
   "execution_count": 7,
   "metadata": {},
   "outputs": [
    {
     "data": {
      "text/html": [
       "<div>\n",
       "<style scoped>\n",
       "    .dataframe tbody tr th:only-of-type {\n",
       "        vertical-align: middle;\n",
       "    }\n",
       "\n",
       "    .dataframe tbody tr th {\n",
       "        vertical-align: top;\n",
       "    }\n",
       "\n",
       "    .dataframe thead th {\n",
       "        text-align: right;\n",
       "    }\n",
       "</style>\n",
       "<table border=\"1\" class=\"dataframe\">\n",
       "  <thead>\n",
       "    <tr style=\"text-align: right;\">\n",
       "      <th></th>\n",
       "      <th>0</th>\n",
       "      <th>1</th>\n",
       "      <th>2</th>\n",
       "      <th>3</th>\n",
       "      <th>4</th>\n",
       "      <th>5</th>\n",
       "      <th>6</th>\n",
       "      <th>7</th>\n",
       "      <th>8</th>\n",
       "      <th>9</th>\n",
       "      <th>...</th>\n",
       "      <th>5110</th>\n",
       "      <th>5111</th>\n",
       "      <th>5112</th>\n",
       "      <th>5113</th>\n",
       "      <th>5114</th>\n",
       "      <th>5115</th>\n",
       "      <th>5116</th>\n",
       "      <th>5117</th>\n",
       "      <th>5118</th>\n",
       "      <th>5119</th>\n",
       "    </tr>\n",
       "  </thead>\n",
       "  <tbody>\n",
       "    <tr>\n",
       "      <th>0</th>\n",
       "      <td>0.056671</td>\n",
       "      <td>-0.074099</td>\n",
       "      <td>-0.040746</td>\n",
       "      <td>0.217794</td>\n",
       "      <td>-0.197767</td>\n",
       "      <td>0.223628</td>\n",
       "      <td>-0.119524</td>\n",
       "      <td>0.080779</td>\n",
       "      <td>-0.021853</td>\n",
       "      <td>0.285255</td>\n",
       "      <td>...</td>\n",
       "      <td>-0.130863</td>\n",
       "      <td>-0.107892</td>\n",
       "      <td>0.140624</td>\n",
       "      <td>-0.169443</td>\n",
       "      <td>0.165775</td>\n",
       "      <td>-0.120193</td>\n",
       "      <td>0.094954</td>\n",
       "      <td>-0.000617</td>\n",
       "      <td>-0.199790</td>\n",
       "      <td>0.001056</td>\n",
       "    </tr>\n",
       "    <tr>\n",
       "      <th>1</th>\n",
       "      <td>0.133009</td>\n",
       "      <td>-0.124348</td>\n",
       "      <td>-0.109747</td>\n",
       "      <td>0.222604</td>\n",
       "      <td>-0.261453</td>\n",
       "      <td>0.138052</td>\n",
       "      <td>-0.132696</td>\n",
       "      <td>0.162016</td>\n",
       "      <td>-0.073308</td>\n",
       "      <td>0.382890</td>\n",
       "      <td>...</td>\n",
       "      <td>-0.105108</td>\n",
       "      <td>-0.053451</td>\n",
       "      <td>0.092585</td>\n",
       "      <td>-0.201894</td>\n",
       "      <td>0.094672</td>\n",
       "      <td>-0.104331</td>\n",
       "      <td>0.135752</td>\n",
       "      <td>0.036512</td>\n",
       "      <td>-0.230271</td>\n",
       "      <td>0.020399</td>\n",
       "    </tr>\n",
       "    <tr>\n",
       "      <th>2</th>\n",
       "      <td>0.155696</td>\n",
       "      <td>-0.016959</td>\n",
       "      <td>-0.179328</td>\n",
       "      <td>0.153639</td>\n",
       "      <td>-0.241203</td>\n",
       "      <td>0.130882</td>\n",
       "      <td>-0.101294</td>\n",
       "      <td>0.178330</td>\n",
       "      <td>-0.043959</td>\n",
       "      <td>0.144877</td>\n",
       "      <td>...</td>\n",
       "      <td>-0.160722</td>\n",
       "      <td>-0.136943</td>\n",
       "      <td>0.049061</td>\n",
       "      <td>-0.175572</td>\n",
       "      <td>0.109034</td>\n",
       "      <td>-0.239965</td>\n",
       "      <td>-0.050614</td>\n",
       "      <td>-0.096664</td>\n",
       "      <td>-0.249927</td>\n",
       "      <td>0.020688</td>\n",
       "    </tr>\n",
       "    <tr>\n",
       "      <th>3</th>\n",
       "      <td>0.056310</td>\n",
       "      <td>-0.137829</td>\n",
       "      <td>-0.098538</td>\n",
       "      <td>0.162526</td>\n",
       "      <td>-0.252675</td>\n",
       "      <td>0.163847</td>\n",
       "      <td>-0.120923</td>\n",
       "      <td>0.205509</td>\n",
       "      <td>-0.078092</td>\n",
       "      <td>0.267088</td>\n",
       "      <td>...</td>\n",
       "      <td>-0.124351</td>\n",
       "      <td>-0.181434</td>\n",
       "      <td>0.037783</td>\n",
       "      <td>-0.201551</td>\n",
       "      <td>0.092573</td>\n",
       "      <td>-0.168867</td>\n",
       "      <td>0.078524</td>\n",
       "      <td>-0.003103</td>\n",
       "      <td>-0.212419</td>\n",
       "      <td>0.049512</td>\n",
       "    </tr>\n",
       "    <tr>\n",
       "      <th>4</th>\n",
       "      <td>0.122564</td>\n",
       "      <td>-0.024471</td>\n",
       "      <td>-0.127546</td>\n",
       "      <td>0.165324</td>\n",
       "      <td>-0.258667</td>\n",
       "      <td>0.142153</td>\n",
       "      <td>-0.093198</td>\n",
       "      <td>0.185513</td>\n",
       "      <td>-0.060469</td>\n",
       "      <td>0.173319</td>\n",
       "      <td>...</td>\n",
       "      <td>-0.155189</td>\n",
       "      <td>-0.155856</td>\n",
       "      <td>0.061196</td>\n",
       "      <td>-0.220575</td>\n",
       "      <td>0.092058</td>\n",
       "      <td>-0.220014</td>\n",
       "      <td>0.025014</td>\n",
       "      <td>-0.053914</td>\n",
       "      <td>-0.198191</td>\n",
       "      <td>0.036471</td>\n",
       "    </tr>\n",
       "  </tbody>\n",
       "</table>\n",
       "<p>5 rows × 5120 columns</p>\n",
       "</div>"
      ],
      "text/plain": [
       "       0         1         2         3         4         5         6     \\\n",
       "0  0.056671 -0.074099 -0.040746  0.217794 -0.197767  0.223628 -0.119524   \n",
       "1  0.133009 -0.124348 -0.109747  0.222604 -0.261453  0.138052 -0.132696   \n",
       "2  0.155696 -0.016959 -0.179328  0.153639 -0.241203  0.130882 -0.101294   \n",
       "3  0.056310 -0.137829 -0.098538  0.162526 -0.252675  0.163847 -0.120923   \n",
       "4  0.122564 -0.024471 -0.127546  0.165324 -0.258667  0.142153 -0.093198   \n",
       "\n",
       "       7         8         9     ...      5110      5111      5112      5113  \\\n",
       "0  0.080779 -0.021853  0.285255  ... -0.130863 -0.107892  0.140624 -0.169443   \n",
       "1  0.162016 -0.073308  0.382890  ... -0.105108 -0.053451  0.092585 -0.201894   \n",
       "2  0.178330 -0.043959  0.144877  ... -0.160722 -0.136943  0.049061 -0.175572   \n",
       "3  0.205509 -0.078092  0.267088  ... -0.124351 -0.181434  0.037783 -0.201551   \n",
       "4  0.185513 -0.060469  0.173319  ... -0.155189 -0.155856  0.061196 -0.220575   \n",
       "\n",
       "       5114      5115      5116      5117      5118      5119  \n",
       "0  0.165775 -0.120193  0.094954 -0.000617 -0.199790  0.001056  \n",
       "1  0.094672 -0.104331  0.135752  0.036512 -0.230271  0.020399  \n",
       "2  0.109034 -0.239965 -0.050614 -0.096664 -0.249927  0.020688  \n",
       "3  0.092573 -0.168867  0.078524 -0.003103 -0.212419  0.049512  \n",
       "4  0.092058 -0.220014  0.025014 -0.053914 -0.198191  0.036471  \n",
       "\n",
       "[5 rows x 5120 columns]"
      ]
     },
     "execution_count": 7,
     "metadata": {},
     "output_type": "execute_result"
    }
   ],
   "source": [
    "# define target\n",
    "features = data.iloc[:, meta_data.shape[1]:]\n",
    "features.head()"
   ]
  },
  {
   "cell_type": "markdown",
   "metadata": {},
   "source": [
    "## Split the data into train and test\n",
    "this procedures is important to be done before any feature selection to avoid data leakage"
   ]
  },
  {
   "cell_type": "code",
   "execution_count": 8,
   "metadata": {},
   "outputs": [
    {
     "name": "stdout",
     "output_type": "stream",
     "text": [
      "Train set shape: (76, 5120), Test set shape: (20, 5120)\n"
     ]
    }
   ],
   "source": [
    "# split the data\n",
    "X_train, X_test, y_train, y_test = train_test_split(features, target, test_size=0.2, random_state=42)\n",
    "\n",
    "print(f'Train set shape: {X_train.shape}, Test set shape: {X_test.shape}')"
   ]
  },
  {
   "cell_type": "markdown",
   "metadata": {},
   "source": [
    "## Running the models"
   ]
  },
  {
   "cell_type": "code",
   "execution_count": 9,
   "metadata": {},
   "outputs": [
    {
     "name": "stdout",
     "output_type": "stream",
     "text": [
      "KNN\n",
      "Train Accuracy: 0.99, Train Recall: 0.97, Train Precision: 1.0\n",
      "Test Accuracy: 0.65, Test Recall: 0.91, Test Precision: 0.62\n",
      "\n",
      "Decision Tree\n",
      "Train Accuracy: 0.99, Train Recall: 0.97, Train Precision: 1.0\n",
      "Test Accuracy: 0.85, Test Recall: 0.82, Test Precision: 0.9\n",
      "\n",
      "GaussianNB\n",
      "Train Accuracy: 0.78, Train Recall: 0.86, Train Precision: 0.72\n",
      "Test Accuracy: 0.85, Test Recall: 0.91, Test Precision: 0.83\n",
      "\n",
      "SVM\n",
      "Train Accuracy: 0.99, Train Recall: 1.0, Train Precision: 0.97\n",
      "Test Accuracy: 0.9, Test Recall: 0.91, Test Precision: 0.91\n",
      "\n",
      "RandomForest\n",
      "Train Accuracy: 0.99, Train Recall: 0.97, Train Precision: 1.0\n",
      "Test Accuracy: 0.85, Test Recall: 0.91, Test Precision: 0.83\n",
      "\n"
     ]
    }
   ],
   "source": [
    "# create a list of classifiers to test\n",
    "classifiers = [\n",
    "    KNeighborsClassifier(),\n",
    "    DecisionTreeClassifier(),\n",
    "    GaussianNB(),\n",
    "    SVC(),\n",
    "    RandomForestClassifier()\n",
    "]\n",
    "\n",
    "# create a dictionary of hyperparameters to search over for each classifier\n",
    "param_grids = [\n",
    "    {'n_neighbors': [5, 10, 30, 50], 'weights': ['uniform', 'distance'], 'p': [1, 2]},\n",
    "    {'max_depth': [None, 2, 4, 6], 'min_samples_split': [2, 4, 6]},\n",
    "    {'var_smoothing': [1e-9, 1e-8, 1e-7, 1e-6, 1e-5, 1e-4, 1e-3, 1e-2, 1e-1, 1]},\n",
    "    {'kernel': ['rbf'], 'C': [0.1, 1, 10, 100], 'gamma': ['scale', 'auto', 1, 0.1, 0.01], 'max_iter': [-1], 'class_weight': [None, 'balanced']},\n",
    "    {'n_estimators': [50, 100, 200], 'max_depth': [5, 10, 50], 'min_samples_split': [5, 10, 50], 'max_features': ['sqrt', 'log2']}\n",
    "]\n",
    "\n",
    "# create a list of names for the classifiers for printing results\n",
    "model_names = [\"KNN\", \"Decision Tree\", 'GaussianNB', \"SVM\", 'RandomForest']\n",
    "\n",
    "# create an empty dataframe to store results\n",
    "results = pd.DataFrame()\n",
    "\n",
    "# loop over the classifiers and hyperparameter grids\n",
    "for name, clf, param_grid in zip(model_names, classifiers, param_grids):\n",
    "    # create a GridSearchCV object with 5-fold cross-validation\n",
    "    grid = GridSearchCV(clf, param_grid, cv=10)\n",
    "    \n",
    "    # fit the grid search object to the training data\n",
    "    grid.fit(X_train, y_train)\n",
    "    \n",
    "    # make predictions on the test data using the best model found by the grid search\n",
    "    train_y_pred = grid.best_estimator_.predict(X_train)\n",
    "    test_y_pred = grid.best_estimator_.predict(X_test)\n",
    "    \n",
    "    best_score = str(grid.best_score_.round(2))\n",
    "    \n",
    "    # evaluate the performance of the best model on the train data using accuracy score\n",
    "    train_accuracy = metrics.accuracy_score(y_train, train_y_pred)\n",
    "    train_recall = metrics.recall_score(y_train, train_y_pred)\n",
    "    train_precision = metrics.precision_score(y_train, train_y_pred)\n",
    "    train_f1_score = metrics.f1_score(y_train, train_y_pred)\n",
    "\n",
    "    # evaluate the performance of the best model on the test data using accuracy score\n",
    "    test_accuracy = metrics.accuracy_score(y_test, test_y_pred)\n",
    "    test_recall = metrics.recall_score(y_test, test_y_pred)\n",
    "    test_precision = metrics.precision_score(y_test, test_y_pred)\n",
    "    test_f1_score = metrics.f1_score(y_test, test_y_pred)\n",
    "    \n",
    "    print(name)\n",
    "    print(f'Train Accuracy: {train_accuracy.round(2)}, Train Recall: {train_recall.round(2)}, Train Precision: {train_precision.round(2)}')\n",
    "    print(f'Test Accuracy: {test_accuracy.round(2)}, Test Recall: {test_recall.round(2)}, Test Precision: {test_precision.round(2)}')\n",
    "    print()\n",
    "\n",
    "    # Saving results\n",
    "    res_dict = {}\n",
    "    res_dict[\"embedding\"] = 'esm2_15B'\n",
    "    res_dict[\"embed_size\"] = features.shape[1]\n",
    "    res_dict[\"model\"] = name\n",
    "\n",
    "    res_dict[\"Train_Accuracy\"] = train_accuracy.round(2)\n",
    "    res_dict[\"Train_recall\"] = train_recall.round(2)\n",
    "    res_dict[\"Train_precision\"] = train_precision.round(2)\n",
    "    res_dict[\"Train_f1\"] = train_f1_score.round(2)\n",
    "\n",
    "    res_dict[\"Test_Accuracy\"] = test_accuracy.round(2)\n",
    "    res_dict[\"Test_recall\"] = test_recall.round(2)\n",
    "    res_dict[\"Test_precision\"] = test_precision.round(2)\n",
    "    res_dict[\"Test_f1\"] = test_f1_score.round(2)\n",
    "\n",
    "\n",
    "    res_dict['best_params'] = str(grid.best_params_)\n",
    " \n",
    "    # updating data frame with results\n",
    "    results = pd.concat([results, pd.DataFrame(res_dict, index=[0])]).reset_index(drop=True)\n",
    "    \n",
    "\n",
    "#results.to_excel('results/results_classification_MIC.xlsx')"
   ]
  },
  {
   "attachments": {},
   "cell_type": "markdown",
   "metadata": {},
   "source": [
    "## Results Visualization"
   ]
  },
  {
   "cell_type": "code",
   "execution_count": 10,
   "metadata": {},
   "outputs": [
    {
     "data": {
      "text/html": [
       "<div>\n",
       "<style scoped>\n",
       "    .dataframe tbody tr th:only-of-type {\n",
       "        vertical-align: middle;\n",
       "    }\n",
       "\n",
       "    .dataframe tbody tr th {\n",
       "        vertical-align: top;\n",
       "    }\n",
       "\n",
       "    .dataframe thead th {\n",
       "        text-align: right;\n",
       "    }\n",
       "</style>\n",
       "<table border=\"1\" class=\"dataframe\">\n",
       "  <thead>\n",
       "    <tr style=\"text-align: right;\">\n",
       "      <th></th>\n",
       "      <th>embedding</th>\n",
       "      <th>embed_size</th>\n",
       "      <th>model</th>\n",
       "      <th>Train_Accuracy</th>\n",
       "      <th>Train_recall</th>\n",
       "      <th>Train_precision</th>\n",
       "      <th>Train_f1</th>\n",
       "      <th>Test_Accuracy</th>\n",
       "      <th>Test_recall</th>\n",
       "      <th>Test_precision</th>\n",
       "      <th>Test_f1</th>\n",
       "      <th>best_params</th>\n",
       "    </tr>\n",
       "  </thead>\n",
       "  <tbody>\n",
       "    <tr>\n",
       "      <th>0</th>\n",
       "      <td>esm2_15B</td>\n",
       "      <td>5120</td>\n",
       "      <td>KNN</td>\n",
       "      <td>0.99</td>\n",
       "      <td>0.97</td>\n",
       "      <td>1.00</td>\n",
       "      <td>0.99</td>\n",
       "      <td>0.65</td>\n",
       "      <td>0.91</td>\n",
       "      <td>0.62</td>\n",
       "      <td>0.74</td>\n",
       "      <td>{'n_neighbors': 5, 'p': 1, 'weights': 'distance'}</td>\n",
       "    </tr>\n",
       "    <tr>\n",
       "      <th>1</th>\n",
       "      <td>esm2_15B</td>\n",
       "      <td>5120</td>\n",
       "      <td>Decision Tree</td>\n",
       "      <td>0.99</td>\n",
       "      <td>0.97</td>\n",
       "      <td>1.00</td>\n",
       "      <td>0.99</td>\n",
       "      <td>0.85</td>\n",
       "      <td>0.82</td>\n",
       "      <td>0.90</td>\n",
       "      <td>0.86</td>\n",
       "      <td>{'max_depth': 6, 'min_samples_split': 6}</td>\n",
       "    </tr>\n",
       "    <tr>\n",
       "      <th>2</th>\n",
       "      <td>esm2_15B</td>\n",
       "      <td>5120</td>\n",
       "      <td>GaussianNB</td>\n",
       "      <td>0.78</td>\n",
       "      <td>0.86</td>\n",
       "      <td>0.72</td>\n",
       "      <td>0.78</td>\n",
       "      <td>0.85</td>\n",
       "      <td>0.91</td>\n",
       "      <td>0.83</td>\n",
       "      <td>0.87</td>\n",
       "      <td>{'var_smoothing': 1e-09}</td>\n",
       "    </tr>\n",
       "    <tr>\n",
       "      <th>3</th>\n",
       "      <td>esm2_15B</td>\n",
       "      <td>5120</td>\n",
       "      <td>SVM</td>\n",
       "      <td>0.99</td>\n",
       "      <td>1.00</td>\n",
       "      <td>0.97</td>\n",
       "      <td>0.99</td>\n",
       "      <td>0.90</td>\n",
       "      <td>0.91</td>\n",
       "      <td>0.91</td>\n",
       "      <td>0.91</td>\n",
       "      <td>{'C': 100, 'class_weight': 'balanced', 'gamma'...</td>\n",
       "    </tr>\n",
       "    <tr>\n",
       "      <th>4</th>\n",
       "      <td>esm2_15B</td>\n",
       "      <td>5120</td>\n",
       "      <td>RandomForest</td>\n",
       "      <td>0.99</td>\n",
       "      <td>0.97</td>\n",
       "      <td>1.00</td>\n",
       "      <td>0.99</td>\n",
       "      <td>0.85</td>\n",
       "      <td>0.91</td>\n",
       "      <td>0.83</td>\n",
       "      <td>0.87</td>\n",
       "      <td>{'max_depth': 5, 'max_features': 'sqrt', 'min_...</td>\n",
       "    </tr>\n",
       "  </tbody>\n",
       "</table>\n",
       "</div>"
      ],
      "text/plain": [
       "  embedding  embed_size          model  Train_Accuracy  Train_recall  \\\n",
       "0  esm2_15B        5120            KNN            0.99          0.97   \n",
       "1  esm2_15B        5120  Decision Tree            0.99          0.97   \n",
       "2  esm2_15B        5120     GaussianNB            0.78          0.86   \n",
       "3  esm2_15B        5120            SVM            0.99          1.00   \n",
       "4  esm2_15B        5120   RandomForest            0.99          0.97   \n",
       "\n",
       "   Train_precision  Train_f1  Test_Accuracy  Test_recall  Test_precision  \\\n",
       "0             1.00      0.99           0.65         0.91            0.62   \n",
       "1             1.00      0.99           0.85         0.82            0.90   \n",
       "2             0.72      0.78           0.85         0.91            0.83   \n",
       "3             0.97      0.99           0.90         0.91            0.91   \n",
       "4             1.00      0.99           0.85         0.91            0.83   \n",
       "\n",
       "   Test_f1                                        best_params  \n",
       "0     0.74  {'n_neighbors': 5, 'p': 1, 'weights': 'distance'}  \n",
       "1     0.86           {'max_depth': 6, 'min_samples_split': 6}  \n",
       "2     0.87                           {'var_smoothing': 1e-09}  \n",
       "3     0.91  {'C': 100, 'class_weight': 'balanced', 'gamma'...  \n",
       "4     0.87  {'max_depth': 5, 'max_features': 'sqrt', 'min_...  "
      ]
     },
     "execution_count": 10,
     "metadata": {},
     "output_type": "execute_result"
    }
   ],
   "source": [
    "#results = pd.read_excel('results/results_classification_MIC.xlsx', index_col=0)\n",
    "results"
   ]
  },
  {
   "cell_type": "code",
   "execution_count": 11,
   "metadata": {},
   "outputs": [
    {
     "data": {
      "image/png": "[encoded data removed]",
      "text/plain": [
       "<Figure size 1000x600 with 1 Axes>"
      ]
     },
     "metadata": {},
     "output_type": "display_data"
    }
   ],
   "source": [
    "# Replace 'column1' and 'column2' with the names of the columns you want to plot\n",
    "column1 = 'Train_Accuracy'\n",
    "column2 = 'Test_Accuracy'\n",
    "\n",
    "# Create a bar plot with two bars per group\n",
    "fig, ax = plt.subplots(figsize=(10, 6))\n",
    "y = np.arange(len(results))\n",
    "bar_height = 0.35\n",
    "opacity = 0.8\n",
    "\n",
    "# +/- 0.01 is to create a small space between bars\n",
    "rects1 = ax.barh(y - bar_height/2 - 0.01, results[column1], bar_height, \n",
    "                 alpha=opacity, color='b', label=column1)\n",
    "rects2 = ax.barh(y + bar_height/2 + 0.01, results[column2], bar_height,\n",
    "                 alpha=opacity, color='g', label=column2)\n",
    "\n",
    "\n",
    "# Add labels and legend\n",
    "ax.set_ylabel('Model')\n",
    "ax.set_xlabel('Value')\n",
    "ax.set_title('Grouped Bar Plot')\n",
    "ax.set_yticks(y)\n",
    "ax.set_yticklabels(results['model'])\n",
    "ax.legend()\n",
    "plt.tight_layout()\n",
    "plt.show()\n"
   ]
  },
  {
   "cell_type": "markdown",
   "metadata": {},
   "source": [
    "## Fine Tunning Model with best hyperparameter found with Gridsearch\n",
    "\n",
    "\n",
    "To determine if the model is overfitting, it's important to evaluate its performance on a validation set or using cross-validation. \n",
    "If the model's performance on the validation set is significantly worse than its performance on the training set, then it may be overfitting. In such cases, it may be necessary to adjust the hyperparameters of the model or to use a more complex kernel function.\n",
    "\n",
    "\n"
   ]
  },
  {
   "attachments": {},
   "cell_type": "markdown",
   "metadata": {},
   "source": [
    "## svc"
   ]
  },
  {
   "cell_type": "code",
   "execution_count": 14,
   "metadata": {},
   "outputs": [
    {
     "data": {
      "text/plain": [
       "\"{'C': 100, 'class_weight': 'balanced', 'gamma': 'scale', 'kernel': 'rbf', 'max_iter': -1}\""
      ]
     },
     "execution_count": 14,
     "metadata": {},
     "output_type": "execute_result"
    }
   ],
   "source": [
    "results.iloc[3, 11]"
   ]
  },
  {
   "cell_type": "code",
   "execution_count": 15,
   "metadata": {},
   "outputs": [
    {
     "data": {
      "text/plain": [
       "0.9"
      ]
     },
     "execution_count": 15,
     "metadata": {},
     "output_type": "execute_result"
    }
   ],
   "source": [
    "svc= SVC(kernel= 'rbf',\n",
    "            C= 100,\n",
    "            gamma='scale',\n",
    "            max_iter=-1,\n",
    "            class_weight= 'balanced',\n",
    "            probability = True\n",
    "            )\n",
    "\n",
    "svc.fit(X_train, y_train)\n",
    "svc.score(X_test, y_test)"
   ]
  },
  {
   "cell_type": "code",
   "execution_count": 16,
   "metadata": {},
   "outputs": [
    {
     "data": {
      "image/png": "[encoded data removed]",
      "text/plain": [
       "<Figure size 640x480 with 1 Axes>"
      ]
     },
     "metadata": {},
     "output_type": "display_data"
    }
   ],
   "source": [
    "# Predict probabilities on the training and testing sets\n",
    "y_train_proba = svc.predict_proba(X_train)[:, 1]\n",
    "y_test_proba = svc.predict_proba(X_test)[:, 1]\n",
    "\n",
    "# Compute precision-recall curves and AUCs for the training and testing sets\n",
    "train_precision, train_recall, _ = precision_recall_curve(y_train, y_train_proba)\n",
    "test_precision, test_recall, _ = precision_recall_curve(y_test, y_test_proba)\n",
    "train_auc = auc(train_recall, train_precision)\n",
    "test_auc = auc(test_recall, test_precision)\n",
    "\n",
    "# Plot the precision-recall curves and AUCs for the training and testing sets\n",
    "plt.plot(train_recall, train_precision, label=f'Train (AUC = {train_auc:.2f})')\n",
    "plt.plot(test_recall, test_precision, label=f'Test (AUC = {test_auc:.2f})')\n",
    "plt.xlabel('Recall')\n",
    "plt.ylabel('Precision')\n",
    "plt.legend()\n",
    "plt.show()"
   ]
  },
  {
   "attachments": {},
   "cell_type": "markdown",
   "metadata": {},
   "source": [
    "## RF"
   ]
  },
  {
   "cell_type": "code",
   "execution_count": 17,
   "metadata": {},
   "outputs": [
    {
     "data": {
      "text/plain": [
       "\"{'max_depth': 5, 'max_features': 'sqrt', 'min_samples_split': 10, 'n_estimators': 200}\""
      ]
     },
     "execution_count": 17,
     "metadata": {},
     "output_type": "execute_result"
    }
   ],
   "source": [
    "results.iloc[4,11]"
   ]
  },
  {
   "cell_type": "code",
   "execution_count": 18,
   "metadata": {},
   "outputs": [
    {
     "data": {
      "text/plain": [
       "0.85"
      ]
     },
     "execution_count": 18,
     "metadata": {},
     "output_type": "execute_result"
    }
   ],
   "source": [
    "RF= RandomForestClassifier(\n",
    "    max_depth=5, \n",
    "    max_features='sqrt', \n",
    "    min_samples_split=10,\n",
    "    n_estimators=200\n",
    ")\n",
    "\n",
    "RF.fit(X_train, y_train)\n",
    "RF.score(X_test, y_test)"
   ]
  },
  {
   "cell_type": "code",
   "execution_count": 19,
   "metadata": {},
   "outputs": [
    {
     "data": {
      "image/png": "[encoded data removed]",
      "text/plain": [
       "<Figure size 640x480 with 1 Axes>"
      ]
     },
     "metadata": {},
     "output_type": "display_data"
    }
   ],
   "source": [
    "# Predict probabilities on the training and testing sets\n",
    "y_train_proba = RF.predict_proba(X_train)[:, 1]\n",
    "y_test_proba = RF.predict_proba(X_test)[:, 1]\n",
    "\n",
    "# Compute precision-recall curves and AUCs for the training and testing sets\n",
    "train_precision, train_recall, _ = precision_recall_curve(y_train, y_train_proba)\n",
    "test_precision, test_recall, _ = precision_recall_curve(y_test, y_test_proba)\n",
    "train_auc = auc(train_recall, train_precision)\n",
    "test_auc = auc(test_recall, test_precision)\n",
    "\n",
    "# Plot the precision-recall curves and AUCs for the training and testing sets\n",
    "plt.plot(train_recall, train_precision, label=f'Train (AUC = {train_auc:.2f})')\n",
    "plt.plot(test_recall, test_precision, label=f'Test (AUC = {test_auc:.2f})')\n",
    "plt.xlabel('Recall')\n",
    "plt.ylabel('Precision')\n",
    "plt.legend()\n",
    "plt.show()"
   ]
  },
  {
   "attachments": {},
   "cell_type": "markdown",
   "metadata": {},
   "source": [
    "## DecisionTreeClassifier"
   ]
  },
  {
   "cell_type": "code",
   "execution_count": 20,
   "metadata": {},
   "outputs": [
    {
     "data": {
      "text/plain": [
       "\"{'max_depth': 6, 'min_samples_split': 6}\""
      ]
     },
     "execution_count": 20,
     "metadata": {},
     "output_type": "execute_result"
    }
   ],
   "source": [
    "results.iloc[1,11]"
   ]
  },
  {
   "cell_type": "code",
   "execution_count": 21,
   "metadata": {},
   "outputs": [
    {
     "data": {
      "text/plain": [
       "0.85"
      ]
     },
     "execution_count": 21,
     "metadata": {},
     "output_type": "execute_result"
    }
   ],
   "source": [
    "DT= DecisionTreeClassifier(\n",
    "    max_depth=6, \n",
    "    min_samples_split=6\n",
    ")\n",
    "\n",
    "DT.fit(X_train, y_train)\n",
    "DT.score(X_test, y_test)"
   ]
  },
  {
   "cell_type": "code",
   "execution_count": 22,
   "metadata": {},
   "outputs": [
    {
     "data": {
      "image/png": "[encoded data removed]",
      "text/plain": [
       "<Figure size 640x480 with 1 Axes>"
      ]
     },
     "metadata": {},
     "output_type": "display_data"
    }
   ],
   "source": [
    "# Predict probabilities on the training and testing sets\n",
    "y_train_proba = DT.predict_proba(X_train)[:, 1]\n",
    "y_test_proba = DT.predict_proba(X_test)[:, 1]\n",
    "\n",
    "# Compute precision-recall curves and AUCs for the training and testing sets\n",
    "train_precision, train_recall, _ = precision_recall_curve(y_train, y_train_proba)\n",
    "test_precision, test_recall, _ = precision_recall_curve(y_test, y_test_proba)\n",
    "train_auc = auc(train_recall, train_precision)\n",
    "test_auc = auc(test_recall, test_precision)\n",
    "\n",
    "# Plot the precision-recall curves and AUCs for the training and testing sets\n",
    "plt.plot(train_recall, train_precision, label=f'Train (AUC = {train_auc:.2f})')\n",
    "plt.plot(test_recall, test_precision, label=f'Test (AUC = {test_auc:.2f})')\n",
    "plt.xlabel('Recall')\n",
    "plt.ylabel('Precision')\n",
    "plt.legend()\n",
    "plt.show()"
   ]
  },
  {
   "attachments": {},
   "cell_type": "markdown",
   "metadata": {},
   "source": [
    "## Gaussian NB"
   ]
  },
  {
   "cell_type": "code",
   "execution_count": 25,
   "metadata": {},
   "outputs": [
    {
     "data": {
      "text/plain": [
       "\"{'var_smoothing': 1e-09}\""
      ]
     },
     "execution_count": 25,
     "metadata": {},
     "output_type": "execute_result"
    }
   ],
   "source": [
    "results.iloc[2, 11]"
   ]
  },
  {
   "cell_type": "code",
   "execution_count": 26,
   "metadata": {},
   "outputs": [
    {
     "data": {
      "text/plain": [
       "0.85"
      ]
     },
     "execution_count": 26,
     "metadata": {},
     "output_type": "execute_result"
    }
   ],
   "source": [
    "gnb = GaussianNB(\n",
    "    var_smoothing= 1e-09,\n",
    "    )\n",
    "\n",
    "gnb.fit(X_train, y_train)\n",
    "gnb.score(X_test, y_test)"
   ]
  },
  {
   "cell_type": "code",
   "execution_count": 27,
   "metadata": {},
   "outputs": [
    {
     "data": {
      "image/png": "[encoded data removed]",
      "text/plain": [
       "<Figure size 640x480 with 1 Axes>"
      ]
     },
     "metadata": {},
     "output_type": "display_data"
    }
   ],
   "source": [
    "# Predict probabilities on the training and testing sets\n",
    "y_train_proba = gnb.predict_proba(X_train)[:, 1]\n",
    "y_test_proba = gnb.predict_proba(X_test)[:, 1]\n",
    "\n",
    "# Compute precision-recall curves and AUCs for the training and testing sets\n",
    "train_precision, train_recall, _ = precision_recall_curve(y_train, y_train_proba)\n",
    "test_precision, test_recall, _ = precision_recall_curve(y_test, y_test_proba)\n",
    "train_auc = auc(train_recall, train_precision)\n",
    "test_auc = auc(test_recall, test_precision)\n",
    "\n",
    "# Plot the precision-recall curves and AUCs for the training and testing sets\n",
    "plt.plot(train_recall, train_precision, label=f'Train (AUC = {train_auc:.2f})')\n",
    "plt.plot(test_recall, test_precision, label=f'Test (AUC = {test_auc:.2f})')\n",
    "plt.xlabel('Recall')\n",
    "plt.ylabel('Precision')\n",
    "plt.legend()\n",
    "plt.show()"
   ]
  },
  {
   "attachments": {},
   "cell_type": "markdown",
   "metadata": {},
   "source": [
    "## KNeighborsClassifier"
   ]
  },
  {
   "cell_type": "code",
   "execution_count": 28,
   "metadata": {},
   "outputs": [
    {
     "data": {
      "text/plain": [
       "\"{'n_neighbors': 5, 'p': 1, 'weights': 'distance'}\""
      ]
     },
     "execution_count": 28,
     "metadata": {},
     "output_type": "execute_result"
    }
   ],
   "source": [
    "results.iloc[0, 11]"
   ]
  },
  {
   "cell_type": "code",
   "execution_count": 29,
   "metadata": {},
   "outputs": [
    {
     "data": {
      "text/plain": [
       "0.65"
      ]
     },
     "execution_count": 29,
     "metadata": {},
     "output_type": "execute_result"
    }
   ],
   "source": [
    "knn = KNeighborsClassifier(\n",
    "    n_neighbors=5,\n",
    "    p= 1,\n",
    "    weights='distance')\n",
    "\n",
    "knn.fit(X_train, y_train)\n",
    "knn.score(X_test, y_test)"
   ]
  },
  {
   "cell_type": "code",
   "execution_count": 30,
   "metadata": {},
   "outputs": [
    {
     "data": {
      "image/png": "[encoded data removed]",
      "text/plain": [
       "<Figure size 640x480 with 1 Axes>"
      ]
     },
     "metadata": {},
     "output_type": "display_data"
    }
   ],
   "source": [
    "# Predict probabilities on the training and testing sets\n",
    "y_train_proba = knn.predict_proba(X_train)[:, 1]\n",
    "y_test_proba = knn.predict_proba(X_test)[:, 1]\n",
    "\n",
    "# Compute precision-recall curves and AUCs for the training and testing sets\n",
    "train_precision, train_recall, _ = precision_recall_curve(y_train, y_train_proba)\n",
    "test_precision, test_recall, _ = precision_recall_curve(y_test, y_test_proba)\n",
    "train_auc = auc(train_recall, train_precision)\n",
    "test_auc = auc(test_recall, test_precision)\n",
    "\n",
    "# Plot the precision-recall curves and AUCs for the training and testing sets\n",
    "plt.plot(train_recall, train_precision, label=f'Train (AUC = {train_auc:.2f})')\n",
    "plt.plot(test_recall, test_precision, label=f'Test (AUC = {test_auc:.2f})')\n",
    "plt.xlabel('Recall')\n",
    "plt.ylabel('Precision')\n",
    "plt.legend()\n",
    "plt.show()"
   ]
  },
  {
   "attachments": {},
   "cell_type": "markdown",
   "metadata": {},
   "source": [
    "# Save the model\n",
    "\n",
    "GNB has less change to be overfitting"
   ]
  },
  {
   "cell_type": "code",
   "execution_count": null,
   "metadata": {},
   "outputs": [],
   "source": [
    "#pickle.dump(gnb, open('models/GNB_cls_esm2_15B_MIC.pkl', 'wb'))"
   ]
  }
 ],
 "metadata": {
  "kernelspec": {
   "display_name": "ML",
   "language": "python",
   "name": "python3"
  },
  "language_info": {
   "codemirror_mode": {
    "name": "ipython",
    "version": 3
   },
   "file_extension": ".py",
   "mimetype": "text/x-python",
   "name": "python",
   "nbconvert_exporter": "python",
   "pygments_lexer": "ipython3",
   "version": "3.8.17"
  }
 },
 "nbformat": 4,
 "nbformat_minor": 2
}
